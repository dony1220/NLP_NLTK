{
  "cells": [
    {
      "cell_type": "markdown",
      "metadata": {
        "id": "cfhIn2I_A1YB"
      },
      "source": [
        "### 프로젝트기반 빅데이터 개발자 양성 과정\n",
        "#### 자연어처리 기초 Part1\n",
        "\n",
        "- 강사: 전대일, 천재교육 AI센터 데이터분석기획팀장\n",
        "<p>\n",
        "\n",
        "- 일정: 2024.1.4 ~ 1.5(2일)\n",
        "<p>\n",
        "\n",
        "- 교육내용 Day1\n",
        "    - 텍스트 기본기, 정규식(Regex) \n",
        "    - NLTK, Standford Core NLP\n",
        "    - 미니 프로젝트 진행(수능 영어 구문 분석)\n",
        "        - 최근 3년간 수학능력평가 영어 시험에서 등장한 모든 문장을 수집하여 연도별 통계 분석을 수행하라.\n",
        "        - 기초: 연도별 영문장의 길이 분포, 연도별 고유 단어수, 연도별 최다 빈출어 분포 및 Top 20, 연도별 워드클라우드\n",
        "        - 난이도: ‘To 부정사’가 포함된 문장을 찾아 전체 수능 영어문장 대비 빈도를 구하라(단, ‘To 부정사’가 포함된 문장을 정확하게 식별하기 어려울 수 있음)\n",
        "- 교육내용 Day2\n",
        "    - RNN 언어처리 개념\n",
        "    - 미니프로젝트: 공룡이름 생성기(Character Level Language Model)\n",
        "        - 공룡화석 발굴학자들에게 이름 만들기란 어려운 문제\n",
        "        - 기존의 공룡 이름 데이터로 문자수준의 언어모델을 훈련하여, 새로운 그럴듯한 공룡이름을 생성한다.\n",
        "\n",
        "<p>"
      ]
    },
    {
      "cell_type": "markdown",
      "metadata": {
        "id": "8pbVXNXdA1YD"
      },
      "source": [
        "#### 0. 텍스트 기초\n",
        "- ASCII\n",
        "- UNICODE, utf8\n",
        "- euckr\n",
        "- binary\n",
        "- charset\n",
        "\n",
        "#### 1. 정규식(Regex)\n",
        "> 정규식(Regular expressions or regex)은 연속적인 문자들을 검색하는 제어방법입니다. (모질라 개발자 네트워크, MDN 용어 사전)\n",
        "- 위키피디아 https://ko.wikipedia.org/wiki/%EC%A0%95%EA%B7%9C_%ED%91%9C%ED%98%84%EC%8B%9D\n",
        "- Python 공식문서: https://docs.python.org/ko/3.10/library/re.html (v3.10, 한글번역)\n",
        "- W3C Schools 튜토리얼: https://www.w3schools.com/python/python_regex.asp"
      ]
    },
    {
      "cell_type": "code",
      "execution_count": 8,
      "metadata": {
        "id": "PdIcA8oNA1YD",
        "outputId": "41633b51-8bc0-46a9-fd87-0c21a346bbfc",
        "trusted": true
      },
      "outputs": [
        {
          "data": {
            "text/plain": [
              "<re.Match object; span=(0, 17), match='The rain in Spain'>"
            ]
          },
          "execution_count": 8,
          "metadata": {},
          "output_type": "execute_result"
        }
      ],
      "source": [
        "\n",
        "import re # 파이썬의 정규식 연산 라이브러리\n",
        "\n",
        "txt = \"The rain in Spain\"\n",
        "\n",
        "# The 로 시작하고 Spain으로 끝나는지 검색\n",
        "# re.search 메소드: 조건에 맞으면 Match 객체를 전달, 틀리면 None 을 전달.\n",
        "\n",
        "re.search(\"The.*Spain$\", txt)\n",
        "\n",
        "# txt 문장의 앞뒤를 조금 변형해서 아래 주석 해제후 테스트 해보자.\n",
        "# None == re.search(\"^The.*Spain$\", txt)\n"
      ]
    },
    {
      "cell_type": "markdown",
      "metadata": {
        "id": "zdUWpzzFA1YF"
      },
      "source": [
        "#### Python ReGex 연습문제 30\n",
        "- \"None\" 을 코드로 대체합니다.\n",
        "\n",
        "1) 영문 대소문자 또는 숫자만 포함된 문장인지 검사하는 함수를 작성하라"
      ]
    },
    {
      "cell_type": "code",
      "execution_count": 10,
      "metadata": {
        "id": "ROxD-iNwA1YG",
        "outputId": "52ab052a-7b20-4c42-c4f1-8abbd0b00d5d",
        "trusted": true
      },
      "outputs": [
        {
          "name": "stdout",
          "output_type": "stream",
          "text": [
            "True\n",
            "False\n",
            "False\n"
          ]
        }
      ],
      "source": [
        "def is_allowed_specific_char(sentence):\n",
        "    charRe = re.compile(r'[^a-zA-Z0-9]') # 정규식 패턴 작성\n",
        "    sentence = charRe.search(sentence)\n",
        "    return not bool(sentence) # 결과 전달 방식 주의\n",
        "\n",
        "print(is_allowed_specific_char(\"ABCDEFabcdef123450\")) # True\n",
        "print(is_allowed_specific_char(\"*&%@#!}{\")) # False\n",
        "print(is_allowed_specific_char(\"ABCDEFabcdef123450!\")) # False\n",
        "\n",
        "#\n",
        "\n",
        "#특수문자 및 문자"
      ]
    },
    {
      "cell_type": "markdown",
      "metadata": {
        "id": "xmJjoPB7A1YG"
      },
      "source": [
        "2) 영문자 a를 포함하며 a뒤에 0개 이상의 b가 이어지는지 검사하라."
      ]
    },
    {
      "cell_type": "code",
      "execution_count": 12,
      "metadata": {
        "id": "2XVTnJjoA1YG",
        "outputId": "12055d1a-d203-4e96-c775-cc0a661ab326",
        "trusted": true
      },
      "outputs": [
        {
          "name": "stdout",
          "output_type": "stream",
          "text": [
            "Not matched!\n",
            "Found a match!\n",
            "Found a match!\n",
            "Found a match!\n"
          ]
        }
      ],
      "source": [
        "# Solution\n",
        "def text_match(text):\n",
        "        patterns = 'ab*_?' # 정규식 패턴 작성성\n",
        "        if re.search(patterns,  text):\n",
        "                return 'Found a match!'\n",
        "        else:\n",
        "                return('Not matched!')\n",
        "\n",
        "print(text_match(\"bc\")) # no match\n",
        "print(text_match(\"ac\")) # match *?만 검색시에도 왜 검색이 되는지...\n",
        "print(text_match(\"abc\")) # match\n",
        "print(text_match(\"abbcababaaab_ab\")) # match"
      ]
    },
    {
      "cell_type": "markdown",
      "metadata": {
        "id": "gYKBJlm5A1YH"
      },
      "source": [
        "3) 영문자 a를 포함하며 a뒤에 하나 이상의 b가 이어지는지 검사"
      ]
    },
    {
      "cell_type": "code",
      "execution_count": 25,
      "metadata": {
        "id": "mSRXa_1PA1YH",
        "outputId": "9fe07813-bd2b-48dc-ae88-5253ca9c1ebc",
        "trusted": true
      },
      "outputs": [
        {
          "name": "stdout",
          "output_type": "stream",
          "text": [
            "Not matched!\n",
            "Found a match!\n",
            "Found a match!\n"
          ]
        }
      ],
      "source": [
        "# Solution\n",
        "def text_match(text):\n",
        "        patterns = 'ab+?' # 정규식 패턴 작성\n",
        "        if re.search(patterns,  text):\n",
        "                return 'Found a match!'\n",
        "        else:\n",
        "                return('Not matched!')\n",
        "\n",
        "print(text_match(\"a,,,,cb\")) # no match\n",
        "print(text_match(\"abdsdads\")) # match\n",
        "print(text_match(\"abc\")) # match"
      ]
    },
    {
      "cell_type": "markdown",
      "metadata": {
        "id": "msNapO3HA1YH"
      },
      "source": [
        "4) 영문자 a를 포함하며 a뒤에 b가 0개 또는 1개 이어지는지 검사"
      ]
    },
    {
      "cell_type": "code",
      "execution_count": 31,
      "metadata": {
        "id": "NBAhbDaqA1YH",
        "outputId": "331d0f27-72a6-421d-ffeb-123151012db2",
        "trusted": true
      },
      "outputs": [
        {
          "name": "stdout",
          "output_type": "stream",
          "text": [
            "Found a match!\n",
            "Found a match!\n",
            "Found a match!\n",
            "Found a match!\n"
          ]
        }
      ],
      "source": [
        "# Solution\n",
        "def text_match(text):\n",
        "        patterns = 'ab?' # 정규식 패턴 작성\n",
        "        if re.search(patterns,  text):\n",
        "                return 'Found a match!'\n",
        "        else:\n",
        "                return('Not matched!')\n",
        "\n",
        "print(text_match(\"acc\"))\n",
        "print(text_match(\"abc\"))\n",
        "print(text_match(\"abbc\"))\n",
        "print(text_match(\"aabbc\"))\n",
        "\n",
        "#해석에 주의 필요"
      ]
    },
    {
      "cell_type": "markdown",
      "metadata": {
        "id": "_jX8iTzXA1YI"
      },
      "source": [
        "5) 영문자 a 뒤에 3개의 b가 이어지는지 검사"
      ]
    },
    {
      "cell_type": "code",
      "execution_count": 53,
      "metadata": {
        "id": "eWK7SY24A1YI",
        "outputId": "5c48e87b-43aa-4811-9221-87d0ee8d409e",
        "trusted": true
      },
      "outputs": [
        {
          "name": "stdout",
          "output_type": "stream",
          "text": [
            "Not matched!\n",
            "Found a match!\n",
            "Not matched!\n"
          ]
        }
      ],
      "source": [
        "# Solution\n",
        "def text_match(text):\n",
        "        patterns = 'a{2}b{3,}' # 코드 작성\n",
        "        if re.search(patterns,  text):\n",
        "                return 'Found a match!'\n",
        "        else:\n",
        "                return('Not matched!')\n",
        "\n",
        "print(text_match(\"abb\")) #b가 2번만 이어져서 False\n",
        "print(text_match(\"aaaaabbbbbc\")) #b가 3번 이어지는 구간이 있어서 True\n",
        "print(text_match(\"abbb\"))\n",
        "\n",
        "#해석에 주의 필요"
      ]
    },
    {
      "cell_type": "markdown",
      "metadata": {
        "id": "bhw27nClA1YI"
      },
      "source": [
        "6) 영문자 a 뒤에 2~3개의 b가 이어지는지 검사"
      ]
    },
    {
      "cell_type": "code",
      "execution_count": 58,
      "metadata": {
        "id": "Wfre4NwgA1YJ",
        "outputId": "5aaed7e1-f1c0-47f7-ef09-6b0212261c40",
        "trusted": true
      },
      "outputs": [
        {
          "name": "stdout",
          "output_type": "stream",
          "text": [
            "Not matched!\n",
            "Found a match!\n",
            "Found a match!\n"
          ]
        }
      ],
      "source": [
        "# Solution\n",
        "def text_match(text):\n",
        "        patterns = 'ab{2,3}' # 코드 작성\n",
        "        if re.search(patterns,  text):\n",
        "                return 'Found a match!'\n",
        "        else:\n",
        "                return('Not matched!')\n",
        "\n",
        "print(text_match(\"ab\")) #F\n",
        "print(text_match(\"abb\")) #T\n",
        "print(text_match(\"aabbbbbc\")) #T"
      ]
    },
    {
      "cell_type": "markdown",
      "metadata": {
        "id": "1eCFTELHA1YJ"
      },
      "source": [
        "7) 영문 소문자 문자열들이 언더바로 이어져 있는지 검사."
      ]
    },
    {
      "cell_type": "code",
      "execution_count": 70,
      "metadata": {
        "id": "T3oL0hWZA1YJ",
        "outputId": "39cacbea-c30b-4ffe-e4e6-ed1a17ba7b65",
        "trusted": true
      },
      "outputs": [
        {
          "name": "stdout",
          "output_type": "stream",
          "text": [
            "Found a match!\n",
            "Found a match!\n",
            "Found a match!\n"
          ]
        }
      ],
      "source": [
        "# Solution\n",
        "def text_match(text):\n",
        "        patterns = '^[A-Za-z]+_[A-Za-z]+$' # 정규식 패턴 작성\n",
        "        if re.search(patterns,  text):\n",
        "                return 'Found a match!'\n",
        "        else:\n",
        "                return('Not matched!')\n",
        "\n",
        "print(text_match(\"aab_cbbbc\")) #True\n",
        "print(text_match(\"aab_Abbbc\")) #True\n",
        "print(text_match(\"Aaab_abbbc\")) #False"
      ]
    },
    {
      "cell_type": "markdown",
      "metadata": {
        "id": "-9eVDe4TA1YJ"
      },
      "source": [
        "8) 대문자 하나에 소문자가 따라붙는 경우가 있는지 검사"
      ]
    },
    {
      "cell_type": "code",
      "execution_count": 72,
      "metadata": {
        "id": "32ppx2KSA1YJ",
        "outputId": "d43c5d74-c7a4-468d-9500-3212709a022b",
        "trusted": true
      },
      "outputs": [
        {
          "name": "stdout",
          "output_type": "stream",
          "text": [
            "Not matched!\n",
            "Found a match!\n",
            "Found a match!\n"
          ]
        }
      ],
      "source": [
        "# Solution\n",
        "def text_match(text):\n",
        "        patterns = '[A-Z][a-z]' # 정규식 패턴 작성\n",
        "        if re.search(patterns,  text):\n",
        "                return 'Found a match!'\n",
        "        else:\n",
        "                return('Not matched!')\n",
        "\n",
        "print(text_match(\"aab_cbbbc\")) #F\n",
        "print(text_match(\"aab_Abbbc\")) #T\n",
        "print(text_match(\"Aaab_abbbc\")) #T"
      ]
    },
    {
      "cell_type": "markdown",
      "metadata": {
        "id": "7eqyy3eOA1YK"
      },
      "source": [
        "9) 문자열에 a가 있고, a뒤에 문자들이 이어지다가, b로 끝나는지 검사"
      ]
    },
    {
      "cell_type": "code",
      "execution_count": 77,
      "metadata": {
        "id": "Fvgy5IfJA1YK",
        "outputId": "236a2eb7-1662-48b4-e08b-49c065e17f03",
        "trusted": true
      },
      "outputs": [
        {
          "name": "stdout",
          "output_type": "stream",
          "text": [
            "Not matched!\n",
            "Not matched!\n",
            "Found a match!\n"
          ]
        }
      ],
      "source": [
        "# Solution\n",
        "def text_match(text):\n",
        "        patterns = 'a.+b$' # 정규식 패턴 작성 #혹은 a.?b$\n",
        "        if re.search(patterns,  text):\n",
        "                return 'Found a match!'\n",
        "        else:\n",
        "                return('Not matched!')\n",
        "\n",
        "print(text_match(\"aabbbbd\")) # F\n",
        "print(text_match(\"ab\")) #F\n",
        "print(text_match(\"accddbbjjjb\")) # T"
      ]
    },
    {
      "cell_type": "markdown",
      "metadata": {
        "id": "XTz1OqFrA1YK"
      },
      "source": [
        "10) 문자열 시작이 단어인지 검사"
      ]
    },
    {
      "cell_type": "code",
      "execution_count": 82,
      "metadata": {
        "id": "q4ezNsFuA1YK",
        "outputId": "1a06aa5d-ee12-4053-b447-a27c794eacff",
        "trusted": true
      },
      "outputs": [
        {
          "name": "stdout",
          "output_type": "stream",
          "text": [
            "Found a match!\n",
            "Not matched!\n"
          ]
        }
      ],
      "source": [
        "# Solution\n",
        "def text_match(text):\n",
        "        patterns = r'^\\S' # 정규식 패턴 작성 -- alphanumeric(문자+숫자)\n",
        "        #^\\S 공백을 제외한 모든 문자열\n",
        "        if re.search(patterns,  text):\n",
        "                return 'Found a match!'\n",
        "        else:\n",
        "                return('Not matched!')\n",
        "\n",
        "print(text_match(\"&123 quick brown fox jumps over the lazy dog.\")) #T\n",
        "print(text_match(\" The quick brown fox jumps over the lazy dog.\")) #F"
      ]
    },
    {
      "cell_type": "markdown",
      "metadata": {},
      "source": [
        "11. 문자열 시작이 글자 또는 숫자인지 검사(공백이거나 특수문자)"
      ]
    },
    {
      "cell_type": "code",
      "execution_count": 86,
      "metadata": {},
      "outputs": [
        {
          "name": "stdout",
          "output_type": "stream",
          "text": [
            "Not matched!\n",
            "Found a match!\n",
            "Not matched!\n"
          ]
        }
      ],
      "source": [
        "# Solution\n",
        "def text_match(text):\n",
        "        patterns = r'^\\w.' # 정규식 패턴 작성 -- alphanumeric(문자+숫자)\n",
        "        #^\\S 공백을 제외한 모든 문자열\n",
        "        if re.search(patterns,  text):\n",
        "                return 'Found a match!'\n",
        "        else:\n",
        "                return('Not matched!')\n",
        "\n",
        "print(text_match(\"&123 quick brown fox jumps over the lazy dog.\")) #F\n",
        "print(text_match(\"123 quick brown fox jumps over the lazy dog.\")) #T\n",
        "print(text_match(\" The quick brown fox jumps over the lazy dog.\")) #F"
      ]
    },
    {
      "cell_type": "markdown",
      "metadata": {
        "id": "sLlTAcu4A1YK"
      },
      "source": [
        "11) 문자열이 단어로 끝나는지 검사(문장부호는 허용)"
      ]
    },
    {
      "cell_type": "code",
      "execution_count": 91,
      "metadata": {
        "id": "MThWwZ3EA1YK",
        "outputId": "0744a88c-2e82-4280-fa49-351542ca6336",
        "trusted": true
      },
      "outputs": [
        {
          "name": "stdout",
          "output_type": "stream",
          "text": [
            "Found a match!\n",
            "Not matched!\n",
            "Not matched!\n"
          ]
        }
      ],
      "source": [
        "# Solution\n",
        "def text_match(text):\n",
        "        patterns = '\\w+\\S$' # 정규식 패턴 작성\n",
        "\n",
        "        # \\w 모든 문자 및 숫자\n",
        "        # \\S 공백을 제외한 모든 문자열\n",
        "        if re.search(patterns,  text):\n",
        "                return 'Found a match!'\n",
        "        else:\n",
        "                return('Not matched!')\n",
        "\n",
        "print(text_match(\"The quick brown fox jumps over the lazy dog.\")) #T\n",
        "print(text_match(\"The quick brown fox jumps over the lazy dog. \")) #F\n",
        "print(text_match(\"The quick brown fox jumps over the lazy dog \")) #F"
      ]
    },
    {
      "cell_type": "markdown",
      "metadata": {
        "id": "Rv2NBh7GA1YK"
      },
      "source": [
        "12) z가 포함된 단어를 포함하는지 검사"
      ]
    },
    {
      "cell_type": "code",
      "execution_count": 105,
      "metadata": {
        "id": "R6tyw-mpA1YL",
        "outputId": "057b2277-5ffe-4122-b7ba-4438a9726e1d",
        "trusted": true
      },
      "outputs": [
        {
          "name": "stdout",
          "output_type": "stream",
          "text": [
            "Found a match!\n",
            "Not matched!\n"
          ]
        }
      ],
      "source": [
        "# Solution\n",
        "def text_match(text):\n",
        "        patterns = '\\w*z.\\w*' # 정규식 패턴 작성\n",
        "        if re.search(patterns,  text):\n",
        "                return 'Found a match!'\n",
        "        else:\n",
        "                return('Not matched!')\n",
        "\n",
        "print(text_match(\"The quick brown fox jumps over the lazy dog.\")) #T\n",
        "print(text_match(\"Python Exercises ooo.\")) #F"
      ]
    },
    {
      "cell_type": "markdown",
      "metadata": {
        "id": "ESwu_r3GA1YL"
      },
      "source": [
        "13) z가 포함된 단어가 포함되어 있지만, 문자열의 끝 또는 마지막이 아닌 중간에 위치하는지 검사"
      ]
    },
    {
      "cell_type": "code",
      "execution_count": 106,
      "metadata": {
        "id": "R0qMMRgGA1YL",
        "outputId": "55585392-9965-4541-dc97-7935284e0e89",
        "trusted": true
      },
      "outputs": [
        {
          "name": "stdout",
          "output_type": "stream",
          "text": [
            "Found a match!\n",
            "Not matched!\n"
          ]
        }
      ],
      "source": [
        "# Solution\n",
        "def text_match(text):\n",
        "        patterns = '\\w[z]\\w' # 정규식 패턴 작성 #다른 와일드카드\n",
        "        # '\\Bz\\B\n",
        "        if re.search(patterns,  text):\n",
        "                return 'Found a match!'\n",
        "        else:\n",
        "                return('Not matched!')\n",
        "\n",
        "print(text_match(\"The quick brown fox jumps over the lazy dog.\")) #T\n",
        "print(text_match(\"Python Exercises zoo\")) #F"
      ]
    },
    {
      "cell_type": "markdown",
      "metadata": {
        "id": "CxTSO9udA1YL"
      },
      "source": [
        "14) 영문 대소문자, 숫자, 언더바, 빼기만 포함하는지 검사"
      ]
    },
    {
      "cell_type": "code",
      "execution_count": 112,
      "metadata": {
        "id": "KQQMtLWvA1YL",
        "outputId": "d4be0ac5-dc27-4b75-aa43-0ac19fd70b06",
        "trusted": true
      },
      "outputs": [
        {
          "name": "stdout",
          "output_type": "stream",
          "text": [
            "Not matched!\n",
            "Found a match!\n",
            "Found a match!\n"
          ]
        }
      ],
      "source": [
        "# Solution\n",
        "def text_match(text):\n",
        "        patterns = '\\w+-' # 정규식 패턴 작성\n",
        "        if re.search(patterns,  text):\n",
        "                return 'Found a match!'\n",
        "        else:\n",
        "                return('Not matched!')\n",
        "\n",
        "print(text_match(\"The quick brown fox jumps over the lazy dog.\")) #F\n",
        "print(text_match(\"Python_Exercises_1-\")) #T\n",
        "print(text_match(\"The quick brown fox jumps over the lazy dog123213-.\")) #F\n"
      ]
    },
    {
      "cell_type": "markdown",
      "metadata": {
        "id": "At3Zr_xdA1YL"
      },
      "source": [
        "15) 특정 숫자로 시작하는지 검사."
      ]
    },
    {
      "cell_type": "code",
      "execution_count": 115,
      "metadata": {
        "id": "0u7TolHAA1YM",
        "outputId": "1df4c4ee-a784-4461-e7f3-490d1bf1e337",
        "trusted": true
      },
      "outputs": [
        {
          "name": "stdout",
          "output_type": "stream",
          "text": [
            "True\n",
            "False\n",
            "False\n"
          ]
        }
      ],
      "source": [
        "# Solution\n",
        "def match_num(string):\n",
        "    # text = re.compile(\"^5\") # 5로 시작하는지 검사하도록 패턴 작성\n",
        "    text = re.compile(\"^5\")\n",
        "    \n",
        "    if text.match(string):\n",
        "        return True\n",
        "    else:\n",
        "        return False\n",
        "\n",
        "print(match_num('5-23458615')) #T\n",
        "print(match_num('6-2345861')) #F\n",
        "print(match_num('10-2345861')) #F\n"
      ]
    },
    {
      "cell_type": "markdown",
      "metadata": {
        "id": "nX47fHr5A1YM"
      },
      "source": [
        "16) IP주소에서 선행 0(불필요한 0)을 제거"
      ]
    },
    {
      "cell_type": "code",
      "execution_count": 123,
      "metadata": {
        "id": "3mNgqDHCA1YM",
        "outputId": "f0f70327-5026-462d-cb9b-2670d6bf2c98",
        "trusted": true
      },
      "outputs": [
        {
          "name": "stdout",
          "output_type": "stream",
          "text": [
            "206.008.094.196\n"
          ]
        }
      ],
      "source": [
        "# Solution\n",
        "ip = \"206.008.094.196\" # --> 216.8.94.196\n",
        "string = re.sub(r'\\.[0]*', '', ip) # 정규식 패턴 작성\n",
        "print(string)"
      ]
    },
    {
      "cell_type": "markdown",
      "metadata": {
        "id": "VlHJ5efEA1YM"
      },
      "source": [
        "17) 문자열 끝이 숫자인지 확인하라"
      ]
    },
    {
      "cell_type": "code",
      "execution_count": 125,
      "metadata": {
        "id": "hRBfQ02nA1YM",
        "outputId": "ff35b1b9-bd4e-45fe-8e18-57a9fb89283b",
        "trusted": true
      },
      "outputs": [
        {
          "name": "stdout",
          "output_type": "stream",
          "text": [
            "False\n",
            "False\n"
          ]
        }
      ],
      "source": [
        "# Solution\n",
        "def end_num(string):\n",
        "    text = re.compile(r\".*\\d$\")  # 정규식 패턴 작성 ; r\".*\\d$\" 도 동일동작\n",
        "    if text.match(string):\n",
        "        return True\n",
        "    else:\n",
        "        return False\n",
        "\n",
        "print(end_num('abcdef')) #F\n",
        "print(end_num('abcdef6')) #T"
      ]
    },
    {
      "cell_type": "markdown",
      "metadata": {
        "id": "ptbhD0LwA1YM"
      },
      "source": [
        "18) 문자열에 포함된 1자리~3자리 숫자를 찾아라"
      ]
    },
    {
      "cell_type": "code",
      "execution_count": 131,
      "metadata": {
        "id": "vRuD1tYjA1YQ",
        "outputId": "af1060e3-ad6e-4ee4-a18c-6012899b54e8",
        "trusted": true
      },
      "outputs": [
        {
          "name": "stdout",
          "output_type": "stream",
          "text": [
            "2자리~3자리 숫자:\n",
            "12\n",
            "13\n",
            "345\n"
          ]
        }
      ],
      "source": [
        "# Solution\n",
        "results = re.finditer(r\"\\d{2,3}\", \"Exercises number 1, 12, 13, and 345 are important\") # finditer용 규칙작성\n",
        "results1 =  (\"Exercises number 1, 12, 13, and 345 are important\") # finditer용 규칙작성\n",
        "\n",
        "print(\"2자리~3자리 숫자:\")\n",
        "\n",
        "for n in results:\n",
        "     #print(n) #비교\n",
        "     # print(n, end='')\n",
        "     print(n.group(0))\n",
        "\n",
        "\n",
        "# 2자리~3자리 숫자도 찾도록 변형해보자."
      ]
    },
    {
      "cell_type": "markdown",
      "metadata": {
        "id": "TOvwECclA1YR"
      },
      "source": [
        "19) 문자열에서 특정 문자열들을 검색\n",
        "- 문자열 : 'The quick brown fox jumps over the lazy dog.'\n",
        "- 검색어 : 'fox', 'dog', 'horse'"
      ]
    },
    {
      "cell_type": "code",
      "execution_count": 138,
      "metadata": {
        "id": "EIhK7m2dA1YR",
        "outputId": "35edec27-795f-48aa-e9df-28d3f47c9721",
        "trusted": true
      },
      "outputs": [
        {
          "name": "stderr",
          "output_type": "stream",
          "text": [
            "<>:7: SyntaxWarning: 'str' object is not callable; perhaps you missed a comma?\n",
            "<>:7: SyntaxWarning: 'str' object is not callable; perhaps you missed a comma?\n",
            "C:\\Users\\user\\AppData\\Local\\Temp\\ipykernel_15972\\2391306484.py:7: SyntaxWarning: 'str' object is not callable; perhaps you missed a comma?\n",
            "  print('Searching for \"%s\" in \"%s\" ->' (patterns, text))\n"
          ]
        },
        {
          "ename": "TypeError",
          "evalue": "'str' object is not callable",
          "output_type": "error",
          "traceback": [
            "\u001b[1;31m---------------------------------------------------------------------------\u001b[0m",
            "\u001b[1;31mTypeError\u001b[0m                                 Traceback (most recent call last)",
            "\u001b[1;32mc:\\Users\\user\\Desktop\\NLP_day1\\NLP_day1_regex.ipynb Cell 43\u001b[0m line \u001b[0;36m7\n\u001b[0;32m      <a href='vscode-notebook-cell:/c%3A/Users/user/Desktop/NLP_day1/NLP_day1_regex.ipynb#X55sZmlsZQ%3D%3D?line=3'>4</a>\u001b[0m text \u001b[39m=\u001b[39m \u001b[39m'\u001b[39m\u001b[39mThe quick brown fox jumps over the lazy dog.\u001b[39m\u001b[39m'\u001b[39m\n\u001b[0;32m      <a href='vscode-notebook-cell:/c%3A/Users/user/Desktop/NLP_day1/NLP_day1_regex.ipynb#X55sZmlsZQ%3D%3D?line=5'>6</a>\u001b[0m \u001b[39mfor\u001b[39;00m patterns \u001b[39min\u001b[39;00m text:\n\u001b[1;32m----> <a href='vscode-notebook-cell:/c%3A/Users/user/Desktop/NLP_day1/NLP_day1_regex.ipynb#X55sZmlsZQ%3D%3D?line=6'>7</a>\u001b[0m     \u001b[39mprint\u001b[39m(\u001b[39m'\u001b[39;49m\u001b[39mSearching for \u001b[39;49m\u001b[39m\"\u001b[39;49m\u001b[39m%s\u001b[39;49;00m\u001b[39m\"\u001b[39;49m\u001b[39m in \u001b[39;49m\u001b[39m\"\u001b[39;49m\u001b[39m%s\u001b[39;49;00m\u001b[39m\"\u001b[39;49m\u001b[39m ->\u001b[39;49m\u001b[39m'\u001b[39;49m (patterns, text))\n\u001b[0;32m      <a href='vscode-notebook-cell:/c%3A/Users/user/Desktop/NLP_day1/NLP_day1_regex.ipynb#X55sZmlsZQ%3D%3D?line=7'>8</a>\u001b[0m     \u001b[39mif\u001b[39;00m re\u001b[39m.\u001b[39msearch(patterns,  text):\n\u001b[0;32m      <a href='vscode-notebook-cell:/c%3A/Users/user/Desktop/NLP_day1/NLP_day1_regex.ipynb#X55sZmlsZQ%3D%3D?line=8'>9</a>\u001b[0m         \u001b[39mprint\u001b[39m(\u001b[39m'\u001b[39m\u001b[39mMatched!\u001b[39m\u001b[39m'\u001b[39m)\n",
            "\u001b[1;31mTypeError\u001b[0m: 'str' object is not callable"
          ]
        }
      ],
      "source": [
        "# Solution\n",
        "patterns = ['fox', 'dog', 'horse']\n",
        "\n",
        "text = 'The quick brown fox jumps over the lazy dog.'\n",
        "\n",
        "for patterns in text:\n",
        "    print('Searching for \"%s\" in \"%s\" ->' (patterns, text))\n",
        "    if re.search(patterns,  text):\n",
        "        print('Matched!')\n",
        "    else:\n",
        "        print('Not Matched!')"
      ]
    },
    {
      "cell_type": "markdown",
      "metadata": {
        "id": "kGhZNFYYA1YR"
      },
      "source": [
        "20) 문자열에서 특정 문자열을 검색하고, 해당 문자열의 위치를 확인하기\n",
        "\n",
        "- 문자열 : 'The quick brown fox jumps over the lazy dog.'\n",
        "- 검색어 : 'fox'"
      ]
    },
    {
      "cell_type": "code",
      "execution_count": 141,
      "metadata": {
        "id": "bIfBeApJA1YR",
        "outputId": "1670cfe4-39bd-450b-80ca-05cd155292ab",
        "trusted": true
      },
      "outputs": [
        {
          "name": "stdout",
          "output_type": "stream",
          "text": [
            "\"fox\" 는 \"The quick brown fox jumps over the lazy dog.\"의 16 에서 19 에 있음\n"
          ]
        }
      ],
      "source": [
        "# Solution\n",
        "pattern = 'fox'\n",
        "text = 'The quick brown fox jumps over the lazy dog.'\n",
        "\n",
        "match = re.search(pattern, text)\n",
        "\n",
        "s = match.start()\n",
        "e = match.end()\n",
        "\n",
        "print('\"%s\" 는 \"%s\"의 %d 에서 %d 에 있음' % (match.re.pattern,match.string,s ,e ))"
      ]
    },
    {
      "cell_type": "markdown",
      "metadata": {
        "id": "qZk58cE9A1YR"
      },
      "source": [
        "21) 문자열에서 특정 검색어를 모두 찾기.\n",
        "\n",
        "문자열 :\n",
        "\n",
        "'Python exercises, PHP exercises, C# exercises'\n",
        "\n",
        "검색어 :\n",
        "\n",
        "'exercises'\n"
      ]
    },
    {
      "cell_type": "code",
      "execution_count": 146,
      "metadata": {
        "id": "YOJ1UeTmA1YS",
        "outputId": "d9546d4e-20a9-41c4-a038-ff6ccf8fe8f0",
        "trusted": true
      },
      "outputs": [
        {
          "name": "stdout",
          "output_type": "stream",
          "text": [
            "Found \"exercises\"\n",
            "Found \"exercises\"\n",
            "Found \"exercises\"\n"
          ]
        }
      ],
      "source": [
        "# Solution\n",
        "text = 'Python exercises, PHP exercises, C# exercises'\n",
        "pattern = 'exercises'\n",
        "\n",
        "for match in re.findall(pattern, text):\n",
        "    print('Found \"%s\"' % match)"
      ]
    },
    {
      "cell_type": "markdown",
      "metadata": {
        "id": "3g9-rWtRA1YS"
      },
      "source": [
        "22) 문자열에서 특정 검색어를 모두 찾고, 등장 위치를 확인"
      ]
    },
    {
      "cell_type": "code",
      "execution_count": 156,
      "metadata": {
        "id": "-pF1BZeSA1YS",
        "outputId": "47d4b1d5-73ca-4184-f456-96028f3288c6",
        "trusted": true
      },
      "outputs": [
        {
          "name": "stdout",
          "output_type": "stream",
          "text": [
            "\"exercises\"는 7:16 사이에 있다\n",
            "\"exercises\"는 22:31 사이에 있다\n",
            "\"exercises\"는 36:45 사이에 있다\n"
          ]
        }
      ],
      "source": [
        "# Solution\n",
        "text = 'Python exercises, PHP exercises, C# exercises'\n",
        "pattern = 'exercises'\n",
        "\n",
        "for match in re.finditer(pattern, text):\n",
        "    s = match.start()\n",
        "    e = match.end()\n",
        "    print('\"%s\"는 %d:%d 사이에 있다' % (text[s:e], s, e))"
      ]
    },
    {
      "cell_type": "markdown",
      "metadata": {
        "id": "5ZJ51DQUA1YS"
      },
      "source": [
        "23) 공백을 언더바로 변경, 언더바를 공백으로 변경"
      ]
    },
    {
      "cell_type": "code",
      "execution_count": 155,
      "metadata": {
        "id": "vajtoAIjA1YS",
        "outputId": "b24ac234-d282-4eb6-cfcd-c8f0e1e5e6b6",
        "trusted": true
      },
      "outputs": [
        {
          "name": "stdout",
          "output_type": "stream",
          "text": [
            "Python_Exercises\n",
            "Python Exercises\n",
            "Python_Exercises\n"
          ]
        }
      ],
      "source": [
        "# Solution\n",
        "text = 'Python Exercises'\n",
        "text = text.replace(' ', '_') \n",
        "print(text)\n",
        "\n",
        "\n",
        "text = text.replace('_', ' ')\n",
        "print(text)\n",
        "\n",
        "text = re.sub(' ', '_', text)\n",
        "\n",
        "print(text)"
      ]
    },
    {
      "cell_type": "markdown",
      "metadata": {
        "id": "RE93UC6fA1YS"
      },
      "source": [
        "24) URL에서 연, 월, 일을 추출하라"
      ]
    },
    {
      "cell_type": "code",
      "execution_count": 161,
      "metadata": {
        "id": "P2KKZCksA1YT",
        "outputId": "2cfd1dd5-f850-438d-9c18-2dc997c3b92f",
        "trusted": true
      },
      "outputs": [
        {
          "name": "stdout",
          "output_type": "stream",
          "text": [
            "[('2016', '09', '02')]\n"
          ]
        }
      ],
      "source": [
        "# Solution\n",
        "def extract_date(url):\n",
        "        return re.findall(r'/(\\d{4})/(\\d{1,2})/(\\d{1,2})', url) # 정규식 코드 작성\n",
        "url1= \"https://www.washingtonpost.com/news/football-insider/wp/2016/09/02/odell-beckhams-fame-rests-on-one-stupid-little-ball-josh-norman-tells-author/\"\n",
        "print(extract_date(url1))"
      ]
    },
    {
      "cell_type": "code",
      "execution_count": null,
      "metadata": {
        "id": "Tv954N_7A1YT",
        "outputId": "e101ae94-27bb-45cf-a48d-bf184b85f07e"
      },
      "outputs": [
        {
          "data": {
            "text/plain": [
              "'2016'"
            ]
          },
          "execution_count": 116,
          "metadata": {},
          "output_type": "execute_result"
        }
      ],
      "source": [
        "extract_date(url1)[0][0]"
      ]
    },
    {
      "cell_type": "markdown",
      "metadata": {
        "id": "_-E-zkIzA1YT"
      },
      "source": [
        "25) 날짜 포멧을 yyyy-mm-dd 에서 dd-mm-yyyy 으로 변경하라."
      ]
    },
    {
      "cell_type": "code",
      "execution_count": 4,
      "metadata": {
        "id": "1sOBTbAAA1YT",
        "outputId": "8f429905-c390-4fe6-d5d0-a3a6c43f83bb",
        "trusted": true
      },
      "outputs": [
        {
          "name": "stdout",
          "output_type": "stream",
          "text": [
            "Original date in YYY-MM-DD Format:  2026-01-02\n",
            "New date in DD-MM-YYYY Format:  2026-01-02\n"
          ]
        }
      ],
      "source": [
        "import re\n",
        "# Solution\n",
        "def change_date_format(dt):\n",
        "        return re.sub(r'(\\d{4}) - (\\d{1,2}) -(\\d{1,2})', '\\\\2-\\\\3-\\\\1', dt) # 코드 완성\n",
        "\n",
        "dt1 = \"2026-01-02\" # --> 02-01-2026\n",
        "\n",
        "print(\"Original date in YYY-MM-DD Format: \",dt1)\n",
        "print(\"New date in DD-MM-YYYY Format: \",change_date_format(dt1))"
      ]
    },
    {
      "cell_type": "markdown",
      "metadata": {
        "id": "Vnxx0WRmA1YT"
      },
      "source": [
        "27) 문자열에서 모든 숫자들을 찾아 각각 출력하라(단, 숫자 123은 1, 2, 3이 아니라 123으로 출력)"
      ]
    },
    {
      "cell_type": "code",
      "execution_count": 20,
      "metadata": {
        "id": "w69iMFEaA1YU",
        "outputId": "171fced3-e8e3-4454-91ee-d58e91a1f809",
        "trusted": true
      },
      "outputs": [
        {
          "name": "stdout",
          "output_type": "stream",
          "text": [
            "10\n",
            "20\n",
            "30\n"
          ]
        }
      ],
      "source": [
        "# Solution\n",
        "# Sample string.\n",
        "text = \"Ten 10, Twenty 20, Thirty 30\"\n",
        "\n",
        "\n",
        "result = re.findall(r'\\d+', text)\n",
        "#finditer 가능\n",
        "#\n",
        "# Print results.\n",
        "for element in result:\n",
        "    print(element)"
      ]
    },
    {
      "cell_type": "markdown",
      "metadata": {
        "id": "CLZWqou1A1YU"
      },
      "source": [
        "28) a 또는 e로 시작하는 단어를 모두 추출하라"
      ]
    },
    {
      "cell_type": "code",
      "execution_count": 48,
      "metadata": {
        "id": "WYz-esdiA1YU",
        "outputId": "e5151cb0-df6c-4fbf-b441-ad7de977c9f9",
        "trusted": true
      },
      "outputs": [
        {
          "name": "stdout",
          "output_type": "stream",
          "text": [
            "['example', 'an', 'elements', 'elements', 'are', 'added', 'and', 'accordingly']\n"
          ]
        }
      ],
      "source": [
        "# Solution\n",
        "# Input.\n",
        "text = \"The following example creates an ArrayList with a capacity of 50 elements. Four elements are then added to the ArrayList and the ArrayList is trimmed accordingly.\"\n",
        "#find all the words starting with 'a' or 'e'\n",
        "list = re.findall(r\"\\b[a|e]\\w+\", text) # 코드 완성\n",
        "# Print result.\n",
        "print(list)\n"
      ]
    },
    {
      "cell_type": "markdown",
      "metadata": {
        "id": "OFSzEV37A1YU"
      },
      "source": [
        "29) 문자열에서 모든 숫자를 찾아 값과 위치를 각각 출력하라"
      ]
    },
    {
      "cell_type": "code",
      "execution_count": 52,
      "metadata": {
        "id": "LhhURqezA1YU",
        "outputId": "a762c0dd-a3fa-4d1f-af9a-02b81659d347",
        "trusted": true
      },
      "outputs": [
        {
          "name": "stdout",
          "output_type": "stream",
          "text": [
            "50\n",
            "Index position: 62\n"
          ]
        }
      ],
      "source": [
        "# Solution\n",
        "# Input.\n",
        "text = \"The following example creates an ArrayList with a capacity of 50 elements. Four elements are then added to the ArrayList and the ArrayList is trimmed accordingly.\"\n",
        "\n",
        "for m in re.finditer(r\"\\d+\", text): # 코드 완성\n",
        "    print(m.group(0))\n",
        "    print(\"Index position:\", m.start())\n"
      ]
    },
    {
      "cell_type": "markdown",
      "metadata": {
        "id": "0c1SuflCA1YU"
      },
      "source": [
        "30) Road를 Rd.로 단축어 처리"
      ]
    },
    {
      "cell_type": "code",
      "execution_count": 53,
      "metadata": {
        "id": "bZrQRFB9A1YV",
        "outputId": "d7b7bb23-c249-4ce2-bf49-496171a834b1",
        "trusted": true
      },
      "outputs": [
        {
          "name": "stdout",
          "output_type": "stream",
          "text": [
            "21 Ramkrishna Rd.\n"
          ]
        }
      ],
      "source": [
        "# Solution\n",
        "street = '21 Ramkrishna Road'\n",
        "print(re.sub('Road', 'Rd.', street)) # 코드 완성\n",
        "\n",
        "\n",
        "\n",
        "print()"
      ]
    },
    {
      "cell_type": "code",
      "execution_count": null,
      "metadata": {
        "id": "KPHWeIWoA1YV",
        "outputId": "b561ebf4-0402-473a-ce16-50e74c91f768"
      },
      "outputs": [
        {
          "data": {
            "text/plain": [
              "'21 Ramkrishna Rd.'"
            ]
          },
          "execution_count": 133,
          "metadata": {},
          "output_type": "execute_result"
        }
      ],
      "source": [
        "'21 Ramkrishna Road'.None"
      ]
    },
    {
      "cell_type": "markdown",
      "metadata": {
        "id": "V71xKiCfA1YV"
      },
      "source": [
        "31. 한글이 아닌 모든 문자를 제거"
      ]
    },
    {
      "cell_type": "code",
      "execution_count": null,
      "metadata": {
        "id": "2RhhxMbhA1YV",
        "outputId": "47c53dd6-5196-4ee1-f71a-56ca90326b8a"
      },
      "outputs": [
        {
          "name": "stdout",
          "output_type": "stream",
          "text": [
            " @#$% !\n"
          ]
        }
      ],
      "source": [
        "kor_eng_mix = 'K디지털선도 @#$% training!'\n",
        "print(re.sub(r'', '', kor_eng_mix))  "
      ]
    }
  ],
  "metadata": {
    "colab": {
      "provenance": []
    },
    "kernelspec": {
      "display_name": "Python 3.10.9 64-bit",
      "language": "python",
      "name": "python3"
    },
    "language_info": {
      "codemirror_mode": {
        "name": "ipython",
        "version": 3
      },
      "file_extension": ".py",
      "mimetype": "text/x-python",
      "name": "python",
      "nbconvert_exporter": "python",
      "pygments_lexer": "ipython3",
      "version": "3.11.7"
    },
    "vscode": {
      "interpreter": {
        "hash": "fb4569285eef3a3450cb62085a5b1e0da4bce0af555edc33dcf29baf3acc1368"
      }
    }
  },
  "nbformat": 4,
  "nbformat_minor": 0
}
